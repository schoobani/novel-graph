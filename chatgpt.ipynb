{
 "cells": [
  {
   "cell_type": "code",
   "execution_count": 1,
   "metadata": {},
   "outputs": [],
   "source": [
    "from revChatGPT.V1 import Chatbot\n",
    "import json\n",
    "import time\n",
    "from tqdm import tqdm"
   ]
  },
  {
   "cell_type": "code",
   "execution_count": 2,
   "metadata": {},
   "outputs": [],
   "source": [
    "with open('data/karamazov.txt', 'r') as f:\n",
    "    corpus = f.read()"
   ]
  },
  {
   "cell_type": "code",
   "execution_count": 3,
   "metadata": {},
   "outputs": [],
   "source": [
    "n = 2500 # chunk length\n",
    "corpus_chunks = [corpus[i:i+n] for i in range(0, len(corpus), n)]"
   ]
  },
  {
   "cell_type": "code",
   "execution_count": 67,
   "metadata": {},
   "outputs": [],
   "source": [
    "chatbot = Chatbot({\n",
    "  \"email\": \"---\",\n",
    "  \"password\": \"---\"\n",
    "}, conversation_id=None, parent_id=None) # "
   ]
  },
  {
   "cell_type": "code",
   "execution_count": 4,
   "metadata": {},
   "outputs": [
    {
     "data": {
      "text/plain": [
       "'o or\\nthree generations. Adelaïda Ivanovna Miüsov’s action was similarly, no\\ndoubt, an echo of other people’s ideas, and was due to the irritation\\ncaused by lack of mental freedom. She wanted, perhaps, to show her\\nfeminine independence, to override class distinctions and the despotism\\nof her family. And a pliable imagination persuaded her, we must\\nsuppose, for a brief moment, that Fyodor Pavlovitch, in spite of his\\nparasitic position, was one of the bold and ironical spirits of that\\nprogressive epoch, though he was, in fact, an ill‐natured buffoon and\\nnothing more. What gave the marriage piquancy was that it was preceded\\nby an elopement, and this greatly captivated Adelaïda Ivanovna’s fancy.\\nFyodor Pavlovitch’s position at the time made him specially eager for\\nany such enterprise, for he was passionately anxious to make a career\\nin one way or another. To attach himself to a good family and obtain a\\ndowry was an alluring prospect. As for mutual love it did not exist\\napparently, either in the bride or in him, in spite of Adelaïda\\nIvanovna’s beauty. This was, perhaps, a unique case of the kind in the\\nlife of Fyodor Pavlovitch, who was always of a voluptuous temper, and\\nready to run after any petticoat on the slightest encouragement. She\\nseems to have been the only woman who made no particular appeal to his\\nsenses.\\n\\nImmediately after the elopement Adelaïda Ivanovna discerned in a flash\\nthat she had no feeling for her husband but contempt. The marriage\\naccordingly showed itself in its true colors with extraordinary\\nrapidity. Although the family accepted the event pretty quickly and\\napportioned the runaway bride her dowry, the husband and wife began to\\nlead a most disorderly life, and there were everlasting scenes between\\nthem. It was said that the young wife showed incomparably more\\ngenerosity and dignity than Fyodor Pavlovitch, who, as is now known,\\ngot hold of all her money up to twenty‐five thousand roubles as soon as\\nshe received it, so that those thousands were lost to her for ever. The\\nlittle village and the rather fine town house which formed part of her\\ndowry he did his utmost for a long time to transfer to his name, by\\nmeans of some deed of conveyance. He would probably have succeeded,\\nmerely from her moral fatigue and desire to get rid of him, and from\\nthe contempt and loathing he aroused by his persistent and shameless\\nimportunity. But, fortunately, Adelaïda Ivanovna’s family intervened\\nand circumvented his greediness. It is known for a fact that freq'"
      ]
     },
     "execution_count": 4,
     "metadata": {},
     "output_type": "execute_result"
    }
   ],
   "source": [
    "corpus_chunks[1]"
   ]
  },
  {
   "cell_type": "code",
   "execution_count": null,
   "metadata": {},
   "outputs": [],
   "source": [
    "for CHUNCK in corpus_chunks:\n",
    "    prompt =f\"\"\"\n",
    "    The following is part of the Brothers Karamazov novel:\n",
    "\n",
    "    {CHUNCK}\n",
    "\n",
    "    Extract only human characters and persons (not places and other entities) from it and understand relationships between each of two characters. make sure to generate the results in the following python dictionary format:\n",
    "\n",
    "    \"\"\" + \"\"\"{\"from\": \"char1\", \"to\": \"char2\", \"label\":\"relation\"}\"\"\"\n",
    "\n",
    "    response = chatbot.ask(prompt, conversation_id=None, parent_id=None) \n",
    "\n",
    "    print(response['message'])\n",
    "    print(\"\\n-------------------\")\n",
    "\n",
    "    with open('karamazov-graph-only-chars.jsonl', 'a') as f:\n",
    "        for r in response['message'].split(\"\\n\"):\n",
    "            try:\n",
    "                json.dump({'chunck':CHUNCK, **json.loads(r)}, f)\n",
    "                f.write(\"\\n\")\n",
    "            except:\n",
    "                pass\n",
    "\n",
    "    time.sleep(300) # to not run out of possible requests in an hour"
   ]
  },
  {
   "cell_type": "code",
   "execution_count": 27,
   "metadata": {},
   "outputs": [],
   "source": [
    "with open('data/karamazov-graph.json','r') as f:\n",
    "    data = json.load(f)"
   ]
  },
  {
   "cell_type": "code",
   "execution_count": 39,
   "metadata": {},
   "outputs": [
    {
     "name": "stderr",
     "output_type": "stream",
     "text": [
      "100%|██████████| 83/83 [7:31:29<00:00, 326.38s/it]  \n"
     ]
    }
   ],
   "source": [
    "for d in tqdm(data['nodes']):\n",
    "    prompt =f\"\"\"\n",
    "    Write a paragraph about the role of {d['name']} in the Brothers Karamazov Novel and describe the role {d['name']} plays in the novel. \n",
    "    In possible cases, add a deeper analyses of different aspects of the character.\n",
    "    \"\"\"\n",
    "    response = chatbot.ask(prompt)\n",
    "    for r in response:\n",
    "        message = r[\"message\"]\n",
    "    with open('data/char-desc.jsonl', 'a') as f:\n",
    "        json.dump({'id':d['id'],'name':d['name'],'desc':message}, f)\n",
    "        f.write('\\n')\n",
    "    time.sleep(300)"
   ]
  },
  {
   "cell_type": "code",
   "execution_count": 44,
   "metadata": {},
   "outputs": [],
   "source": [
    "mapping = {a['id']:a['name'] for a in data['nodes']}"
   ]
  },
  {
   "cell_type": "code",
   "execution_count": 68,
   "metadata": {},
   "outputs": [
    {
     "name": "stderr",
     "output_type": "stream",
     "text": [
      "100%|██████████| 42/42 [3:46:48<00:00, 324.01s/it]  \n"
     ]
    }
   ],
   "source": [
    "for d in tqdm(data['links']):\n",
    "    prompt =f\"\"\"\n",
    "    In the borthers karamazov novel {mapping[d['source']]} and {mapping[d['target']]} are interacting with each other in different ways. \n",
    "    Describe and analyse the relationship between {mapping[d['source']]} and {mapping[d['target']]}.\n",
    "    Make sure to only describe the relationship and don't provide any further details on each character.\"\"\"\n",
    "    response = chatbot.ask(prompt)\n",
    "    for r in response:\n",
    "        message = r[\"message\"]\n",
    "    with open('data/char-rel.jsonl', 'a') as f:\n",
    "        json.dump({'source':mapping[d['source']],'target':mapping[d['target']],'desc':message}, f)\n",
    "        f.write('\\n')\n",
    "    time.sleep(300)"
   ]
  }
 ],
 "metadata": {
  "kernelspec": {
   "display_name": "novel-graph",
   "language": "python",
   "name": "python3"
  },
  "language_info": {
   "codemirror_mode": {
    "name": "ipython",
    "version": 3
   },
   "file_extension": ".py",
   "mimetype": "text/x-python",
   "name": "python",
   "nbconvert_exporter": "python",
   "pygments_lexer": "ipython3",
   "version": "3.9.7"
  },
  "orig_nbformat": 4,
  "vscode": {
   "interpreter": {
    "hash": "98dfde770cec8037c38679442e989940cb2c0b06c8ab7fc79563678b269de275"
   }
  }
 },
 "nbformat": 4,
 "nbformat_minor": 2
}
